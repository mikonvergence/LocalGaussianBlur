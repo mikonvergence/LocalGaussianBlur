{
 "cells": [
  {
   "cell_type": "code",
   "execution_count": null,
   "id": "fdd99385",
   "metadata": {},
   "outputs": [],
   "source": [
    "import torch\n",
    "from matplotlib import pyplot as plt\n",
    "from src.LocalGaussianBlur import *"
   ]
  },
  {
   "cell_type": "markdown",
   "id": "3ada619b",
   "metadata": {},
   "source": [
    "This example only demonstrates the interface of the operation. The results do not look particularly meaningful for random uniform noise signals."
   ]
  },
  {
   "cell_type": "code",
   "execution_count": null,
   "id": "04287aed",
   "metadata": {},
   "outputs": [],
   "source": [
    "lblur = LocalGaussianBlur()"
   ]
  },
  {
   "cell_type": "code",
   "execution_count": null,
   "id": "20a0f891",
   "metadata": {},
   "outputs": [],
   "source": [
    "image = torch.rand(1,3,128,128)\n",
    "modulator = torch.rand(128,128)\n",
    "\n",
    "blurred = lblur(image,modulator)"
   ]
  },
  {
   "cell_type": "code",
   "execution_count": null,
   "id": "3b5d8d57",
   "metadata": {},
   "outputs": [],
   "source": [
    "plt.figure(figsize=(20,10))\n",
    "\n",
    "plt.subplot(1,3,1)\n",
    "plt.imshow(image[0].permute(1,2,0))\n",
    "plt.subplot(1,3,2)\n",
    "plt.imshow(modulator)\n",
    "plt.subplot(1,3,3)\n",
    "plt.imshow(blurred[0].permute(1,2,0))"
   ]
  },
  {
   "cell_type": "code",
   "execution_count": null,
   "id": "3bf50eef",
   "metadata": {},
   "outputs": [],
   "source": []
  }
 ],
 "metadata": {
  "language_info": {
   "name": "python",
   "pygments_lexer": "ipython3"
  }
 },
 "nbformat": 4,
 "nbformat_minor": 5
}
